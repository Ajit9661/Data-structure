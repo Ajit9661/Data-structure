{
  "nbformat": 4,
  "nbformat_minor": 0,
  "metadata": {
    "colab": {
      "private_outputs": true,
      "provenance": []
    },
    "kernelspec": {
      "name": "python3",
      "display_name": "Python 3"
    },
    "language_info": {
      "name": "python"
    }
  },
  "cells": [
    {
      "cell_type": "code",
      "execution_count": null,
      "metadata": {
        "id": "EJ1LQCywxwLE"
      },
      "outputs": [],
      "source": [
        "#1. write a code to reverse a string."
      ]
    },
    {
      "cell_type": "code",
      "source": [
        "#Ans:- Here's how you can reverse a string in Python:\n",
        "\n",
        "\n",
        "def reverse_string(input_str):\n",
        "    return input_str[::-1]\n",
        "\n",
        "# Test the function\n",
        "input_str = \"Hello, World!\"\n",
        "print(\"Original String:\", input_str)\n",
        "print(\"Reversed String:\", reverse_string(input_str))\n",
        "\n",
        "\n",
        "#Output:\n",
        "\n",
        "\n",
        "#Original String: Hello, World!\n",
        "#Reversed String: !dlroW ,olleH\n",
        "\n",
        "\n",
        "#This code defines a function reverse_string() that takes an input string input_str. It uses slicing ([::-1]) to reverse the string.\n",
        "\n",
        "#Alternatively, you can use the reversed() function in combination with the join() method:\n",
        "\n",
        "\n",
        "def reverse_string(input_str):\n",
        "    return \"\".join(reversed(input_str))\n",
        "\n",
        "# Test the function\n",
        "input_str = \"Hello, World!\"\n",
        "print(\"Original String:\", input_str)\n",
        "print(\"Reversed String:\", reverse_string(input_str))\n",
        "\n",
        "\n"
      ],
      "metadata": {
        "id": "x6NGwk7TySwF"
      },
      "execution_count": null,
      "outputs": []
    },
    {
      "cell_type": "code",
      "source": [
        "#2. write a code to count the number of vowels in a string."
      ],
      "metadata": {
        "id": "rF39yR0Pygot"
      },
      "execution_count": null,
      "outputs": []
    },
    {
      "cell_type": "code",
      "source": [
        "#Ans:- Here's how you can count the number of vowels in a string in Python:\n",
        "\n",
        "\n",
        "def count_vowels(input_str):\n",
        "    vowels = \"aeiouAEIOU\"\n",
        "    count = 0\n",
        "    for char in input_str:\n",
        "        if char in vowels:\n",
        "            count += 1\n",
        "    return count\n",
        "\n",
        "# Test the function\n",
        "input_str = \"Hello, World!\"\n",
        "print(\"Original String:\", input_str)\n",
        "print(\"Number of Vowels:\", count_vowels(input_str))\n",
        "\n"
      ],
      "metadata": {
        "id": "L3ffisPwy5Yc"
      },
      "execution_count": null,
      "outputs": []
    },
    {
      "cell_type": "code",
      "source": [
        "#3. write a code to check if a gioven string is a palindrom or not."
      ],
      "metadata": {
        "id": "ShY-fCQgy88l"
      },
      "execution_count": null,
      "outputs": []
    },
    {
      "cell_type": "code",
      "source": [
        "#Ans:- Here's how you can check if a given string is a palindrome or not in Python:\n",
        "\n",
        "\n",
        "def is_palindrome(input_str):\n",
        "    input_str = ''.join(c for c in input_str if c.isalnum()).lower()\n",
        "    return input_str == input_str[::-1]\n",
        "\n",
        "# Test the function\n",
        "input_str = \"A man, a plan, a canal: Panama\"\n",
        "print(\"Original String:\", input_str)\n",
        "print(\"Is Palindrome?\", is_palindrome(input_str))\n"
      ],
      "metadata": {
        "id": "79szUO2czdnc"
      },
      "execution_count": null,
      "outputs": []
    },
    {
      "cell_type": "code",
      "source": [
        "#4. write a code to ckack if two given string are anagrams of each other."
      ],
      "metadata": {
        "id": "8u4eFjkizgpD"
      },
      "execution_count": null,
      "outputs": []
    },
    {
      "cell_type": "code",
      "source": [
        "#Ans:- Here's how you can check if two given strings are anagrams of each other in Python:\n",
        "\n",
        "\n",
        "def are_anagrams(str1, str2):\n",
        "    str1 = ''.join(c for c in str1 if c.isalnum()).lower()\n",
        "    str2 = ''.join(c for c in str2 if c.isalnum()).lower()\n",
        "    return sorted(str1) == sorted(str2)\n",
        "\n",
        "# Test the function\n",
        "str1 = \"Listen\"\n",
        "str2 = \"Silent\"\n",
        "print(\"String 1:\", str1)\n",
        "print(\"String 2:\", str2)\n",
        "print(\"Are Anagrams?\", are_anagrams(str1, str2))\n",
        "\n",
        "\n"
      ],
      "metadata": {
        "id": "8RVfBFEm0BDM"
      },
      "execution_count": null,
      "outputs": []
    },
    {
      "cell_type": "code",
      "source": [
        "def are_anagrams(str1, str2):\n",
        "    str1 = ''.join(c for c in str1 if c.isalnum()).lower()\n",
        "    str2 = ''.join(c for c in str2 if c.isalnum()).lower()\n",
        "    #return Counter(str1) == Counter(str2)\n",
        "\n",
        "# Test the function\n",
        "str1 = \"Listen\"\n",
        "str2 = \"Silent\"\n",
        "print(\"String 1:\", str1)\n",
        "print(\"String 2:\", str2)\n",
        "print(\"Are Anagrams?\", are_anagrams(str1, str2))\n"
      ],
      "metadata": {
        "id": "t8yguUMu0Djj"
      },
      "execution_count": null,
      "outputs": []
    },
    {
      "cell_type": "code",
      "source": [
        "#5. write a code to find all occurrences of a given substring within another string."
      ],
      "metadata": {
        "id": "84Y3eOtk0JKz"
      },
      "execution_count": null,
      "outputs": []
    },
    {
      "cell_type": "code",
      "source": [
        "#Ans:- Here's how you can find all occurrences of a given substring within another string in Python:\n",
        "\n",
        "\n",
        "def find_substring(main_str, sub_str):\n",
        "    occurrences = []\n",
        "    start = 0\n",
        "    while start < len(main_str):\n",
        "        pos = main_str.find(sub_str, start)\n",
        "        if pos != -1:\n",
        "            occurrences.append(pos)\n",
        "            start = pos + 1\n",
        "        else:\n",
        "            break\n",
        "    return occurrences\n",
        "\n",
        "# Test the function\n",
        "main_str = \"Hello, World! Hello again!\"\n",
        "sub_str = \"Hello\"\n",
        "print(\"Main String:\", main_str)\n",
        "print(\"Substring:\", sub_str)\n",
        "print(\"Occurrences:\", find_substring(main_str, sub_str))\n",
        "\n"
      ],
      "metadata": {
        "id": "7_Y22vby0o9N"
      },
      "execution_count": null,
      "outputs": []
    },
    {
      "cell_type": "code",
      "source": [
        "#6.write a code to perform basic string compression using the countsof repeated charecters."
      ],
      "metadata": {
        "id": "UYXa0gml0sKK"
      },
      "execution_count": null,
      "outputs": []
    },
    {
      "cell_type": "code",
      "source": [
        "#Ans:- Here's how you can perform basic string compression using the counts of repeated characters in Python:\n",
        "\n",
        "\n",
        "def compress_string(input_str):\n",
        "    if not input_str:\n",
        "        return \"\"\n",
        "\n",
        "    compressed = []\n",
        "    count = 1\n",
        "\n",
        "    for i in range(1, len(input_str)):\n",
        "        if input_str[i] == input_str[i - 1]:\n",
        "            count += 1\n",
        "        else:\n",
        "            compressed.append(input_str[i - 1] + str(count))\n",
        "            count = 1\n",
        "\n",
        "    compressed.append(input_str[-1] + str(count))\n",
        "    return \"\".join(compressed)\n",
        "\n",
        "# Test the function\n",
        "input_str = \"aaabbbccc\"\n",
        "print(\"Original String:\", input_str)\n",
        "print(\"Compressed String:\", compress_string(input_str))\n"
      ],
      "metadata": {
        "id": "TB-VlQtH1Tij"
      },
      "execution_count": null,
      "outputs": []
    },
    {
      "cell_type": "code",
      "source": [
        "#7. write a code to determind if a string has all unique characters."
      ],
      "metadata": {
        "id": "rZmQjPf01Vwi"
      },
      "execution_count": null,
      "outputs": []
    },
    {
      "cell_type": "code",
      "source": [
        "#Ans:- Here's how you can determine if a string has all unique characters in Python:\n",
        "\n",
        "\n",
        "def has_unique_chars(input_str):\n",
        "    return len(input_str) == len(set(input_str))\n",
        "\n",
        "# Test the function\n",
        "input_str = \"abcdefg\"\n",
        "print(\"Original String:\", input_str)\n",
        "print(\"Has Unique Characters?\", has_unique_chars(input_str))\n",
        "\n",
        "\n"
      ],
      "metadata": {
        "id": "NQJ_e-nF1r4S"
      },
      "execution_count": null,
      "outputs": []
    },
    {
      "cell_type": "code",
      "source": [
        "def has_unique_chars(input_str):\n",
        "    char_count = {}\n",
        "    for char in input_str:\n",
        "        if char in char_count:\n",
        "            return False\n",
        "        char_count[char] = 1\n",
        "    return True\n",
        "\n",
        "# Test the function\n",
        "input_str = \"abcdefg\"\n",
        "print(\"Original String:\", input_str)\n",
        "print(\"Has Unique Characters?\", has_unique_chars(input_str))\n",
        "\n",
        "\n"
      ],
      "metadata": {
        "id": "9wZ0JHqZ18JL"
      },
      "execution_count": null,
      "outputs": []
    },
    {
      "cell_type": "code",
      "source": [
        "#8. write a code to convert a given string to uppercase or lowercase."
      ],
      "metadata": {
        "id": "gY5ERwuj2Bbp"
      },
      "execution_count": null,
      "outputs": []
    },
    {
      "cell_type": "code",
      "source": [
        "#Ans:- Here's how you can convert a given string to uppercase or lowercase in Python:\n",
        "\n",
        "\n",
        "def convert_case(input_str, case):\n",
        "    if case == \"upper\":\n",
        "        return input_str.upper()\n",
        "    elif case == \"lower\":\n",
        "        return input_str.lower()\n",
        "    else:\n",
        "        return \"Invalid case\"\n",
        "\n",
        "# Test the function\n",
        "input_str = \"Hello, World!\"\n",
        "print(\"Original String:\", input_str)\n",
        "print(\"Uppercase:\", convert_case(input_str, \"upper\"))\n",
        "print(\"Lowercase:\", convert_case(input_str, \"lower\"))\n"
      ],
      "metadata": {
        "id": "p7EpyXiz2QTa"
      },
      "execution_count": null,
      "outputs": []
    },
    {
      "cell_type": "code",
      "source": [
        "#9. write a code to count the number of world in a string."
      ],
      "metadata": {
        "id": "WjzfH0pv2iCJ"
      },
      "execution_count": null,
      "outputs": []
    },
    {
      "cell_type": "code",
      "source": [
        "#Ans:- Here's how you can count the number of words in a string in Python:\n",
        "\n",
        "\n",
        "def count_words(input_str):\n",
        "    words = input_str.split()\n",
        "    return len(words)\n",
        "\n",
        "# Test the function\n",
        "input_str = \"Hello, World! This is a test string.\"\n",
        "print(\"Original String:\", input_str)\n",
        "print(\"Number of Words:\", count_words(input_str))"
      ],
      "metadata": {
        "id": "J9NoFbtS2zcR"
      },
      "execution_count": null,
      "outputs": []
    },
    {
      "cell_type": "code",
      "source": [
        "#10. write a code to concatenate two string without using the + operetor."
      ],
      "metadata": {
        "id": "eh-P0B2k29qh"
      },
      "execution_count": null,
      "outputs": []
    },
    {
      "cell_type": "code",
      "source": [
        "#Ans:- Here's how you can concatenate two strings without using the + operator in Python:\n",
        "\n",
        "def concat_strings(str1, str2):\n",
        "    return \"{}{}\".format(str1, str2)\n",
        "\n",
        "# Test the function\n",
        "str1 = \"Hello\"\n",
        "str2 = \"World\"\n",
        "print(\"String 1:\", str1)\n",
        "print(\"String 2:\", str2)\n",
        "print(\"Concatenated String:\", concat_strings(str1, str2))\n",
        "\n",
        "\n",
        "#Or, you can use f-strings (Python 3.6+):\n",
        "\n",
        "\n",
        "def concat_strings(str1, str2):\n",
        "    return f\"{str1}{str2}\"\n",
        "\n",
        "# Test the function\n",
        "str1 = \"Hello\"\n",
        "str2 = \"World\"\n",
        "print(\"String 1:\", str1)\n",
        "print(\"String 2:\", str2)\n",
        "print(\"Concatenated String:\", concat_strings(str1, str2))\n",
        "\n",
        "\n"
      ],
      "metadata": {
        "id": "qJ4e4oDe3OYq"
      },
      "execution_count": null,
      "outputs": []
    },
    {
      "cell_type": "code",
      "source": [
        "#11. write a code to remove all occurrences of a specific element from a list."
      ],
      "metadata": {
        "id": "AcqHLEe-3ih7"
      },
      "execution_count": null,
      "outputs": []
    },
    {
      "cell_type": "code",
      "source": [
        "#Ans:- Here's how you can remove all occurrences of a specific element from a list in Python:\n",
        "\n",
        "\n",
        "def remove_element(lst, elem):\n",
        "    return [x if x != elem else None for x in lst if x != elem]\n",
        "\n",
        "# Test the function\n",
        "lst = [1, 2, 3, 4, 2, 5, 2, 6]\n",
        "elem = 2\n",
        "print(\"Original List:\", lst)\n",
        "print(\"Element to Remove:\", elem)\n",
        "print(\"Updated List:\", [x for x in remove_element(lst, elem) if x is not None])\n",
        "\n"
      ],
      "metadata": {
        "id": "pHpdZcGw4C75"
      },
      "execution_count": null,
      "outputs": []
    },
    {
      "cell_type": "code",
      "source": [
        "#12. impliment a code to find the second  largest number in a given list of integers."
      ],
      "metadata": {
        "id": "zp08r2On4Kmb"
      },
      "execution_count": null,
      "outputs": []
    },
    {
      "cell_type": "code",
      "source": [
        "#Ans:- Alternatively, you can use the nlargest() function from the heapq module:\n",
        "\n",
        "\n",
        "import heapq\n",
        "\n",
        "def second_largest(nums):\n",
        "    return heapq.nlargest(2, set(nums))[1]\n",
        "\n",
        "# Test the function\n",
        "nums = [10, 20, 30, 40, 50, 40, 30]\n",
        "print(\"Original List:\", nums)\n",
        "print(\"Second Largest Number:\", second_largest(nums))\n",
        "\n",
        "\n",
        "#Or, you can use list comprehension:\n",
        "\n",
        "\n",
        "def second_largest(nums):\n",
        "    max_num = max(nums)\n",
        "    return max([num for num in nums if num != max_num])\n",
        "\n",
        "# Test the function\n",
        "nums = [10, 20, 30, 40, 50, 40, 30]\n",
        "print(\"Original List:\", nums)\n",
        "print(\"Second Largest Number:\", second_largest(nums))\n"
      ],
      "metadata": {
        "id": "F80Piynw4zJr"
      },
      "execution_count": null,
      "outputs": []
    },
    {
      "cell_type": "code",
      "source": [
        "#13. creat a code to count the occurrencess of each element in a list and return a dictionary with element as keys and their counts as value."
      ],
      "metadata": {
        "id": "7YWFujW25BmD"
      },
      "execution_count": null,
      "outputs": []
    },
    {
      "cell_type": "code",
      "source": [
        "#Ans:- Here's how you can count the occurrences of each element in a list and return a dictionary with elements as keys and their counts as values in Python:\n",
        "\n",
        "\n",
        "def count_elements(lst):\n",
        "    return {i: lst.count(i) for i in set(lst)}\n",
        "\n",
        "# Test the function\n",
        "lst = [1, 2, 2, 3, 3, 3, 4, 4, 4, 4]\n",
        "print(\"Original List:\", lst)\n",
        "print(\"Element Counts:\", count_elements(lst))\n",
        "\n"
      ],
      "metadata": {
        "id": "NKxhrkkS5ltz"
      },
      "execution_count": null,
      "outputs": []
    },
    {
      "cell_type": "code",
      "source": [
        "#14. write a code to reverse a list in place without using any built in reverse functions."
      ],
      "metadata": {
        "id": "5vwCvrBS5-Xp"
      },
      "execution_count": null,
      "outputs": []
    },
    {
      "cell_type": "code",
      "source": [
        "#Ans:- Here's how you can reverse a list in place without using any built-in reverse functions in Python:\n",
        "\n",
        "\n",
        "def reverse_list(lst):\n",
        "    left = 0\n",
        "    right = len(lst) - 1\n",
        "\n",
        "    while left < right:\n",
        "        lst[left], lst[right] = lst[right], lst[left]\n",
        "        left += 1\n",
        "        right -= 1\n",
        "\n",
        "    return lst\n",
        "\n",
        "# Test the function\n",
        "lst = [1, 2, 3, 4, 5]\n",
        "print(\"Original List:\", lst)\n",
        "print(\"Reversed List:\", reverse_list(lst))\n",
        "\n"
      ],
      "metadata": {
        "id": "yXUYqx-g61aZ"
      },
      "execution_count": null,
      "outputs": []
    },
    {
      "cell_type": "code",
      "source": [
        "#15. impliment a code to find and remove duplicates from a list while preserving the orignal order of element."
      ],
      "metadata": {
        "id": "_1R1iBYB7Bdq"
      },
      "execution_count": null,
      "outputs": []
    },
    {
      "cell_type": "code",
      "source": [
        "#Ans:- Here's how you can find and remove duplicates from a list while preserving the original order of elements in Python:\n",
        "\n",
        "\n",
        "def remove_duplicates(lst):\n",
        "    seen = set()\n",
        "    return [x for x in lst if not (x in seen or seen.add(x))]\n",
        "\n",
        "# Test the function\n",
        "lst = [1, 2, 2, 3, 3, 3, 4, 4, 4, 4]\n",
        "print(\"Original List:\", lst)\n",
        "print(\"List Without Duplicates:\", remove_duplicates(lst))\n",
        "\n"
      ],
      "metadata": {
        "id": "7US5sXmb7d7Y"
      },
      "execution_count": null,
      "outputs": []
    },
    {
      "cell_type": "code",
      "source": [
        "def remove_duplicates(lst):\n",
        "    seen = set()\n",
        "    result = []\n",
        "    for x in lst:\n",
        "        if x not in seen:\n",
        "            result.append(x)\n",
        "            seen.add(x)\n",
        "    return result\n",
        "\n",
        "# Test the function\n",
        "lst = [1, 2, 2, 3, 3, 3, 4, 4, 4, 4]\n",
        "print(\"Original List:\", lst)\n",
        "print(\"List Without Duplicates:\", remove_duplicates(lst))\n",
        "\n",
        "\n",
        "#Or, you can use OrderedDict from the collections module:\n",
        "\n",
        "\n",
        "from collections import OrderedDict\n",
        "\n",
        "def remove_duplicates(lst):\n",
        "    return list(OrderedDict.fromkeys(lst))\n",
        "\n",
        "# Test the function\n",
        "lst = [1, 2, 2, 3, 3, 3, 4, 4, 4, 4]\n",
        "print(\"Original List:\", lst)\n",
        "print(\"List Without Duplicates:\", remove_duplicates(lst))\n"
      ],
      "metadata": {
        "id": "psR9h0cl7xrY"
      },
      "execution_count": null,
      "outputs": []
    },
    {
      "cell_type": "code",
      "source": [
        "#16. create a code to merge two shorted lists into a single shorted list."
      ],
      "metadata": {
        "id": "Kg79FMxm74sB"
      },
      "execution_count": null,
      "outputs": []
    },
    {
      "cell_type": "code",
      "source": [
        "#Ans:- Here's how you can merge two sorted lists into a single sorted list in Python:\n",
        "\n",
        "\n",
        "def merge_sorted_lists(list1, list2):\n",
        "    result = []\n",
        "    i = j = 0\n",
        "\n",
        "    while i < len(list1) and j < len(list2):\n",
        "        if list1[i] < list2[j]:\n",
        "            result.append(list1[i])\n",
        "            i += 1\n",
        "        else:\n",
        "            result.append(list2[j])\n",
        "            j += 1\n",
        "\n",
        "    result.extend(list1[i:])\n",
        "    result.extend(list2[j:])\n",
        "    return result\n",
        "\n",
        "# Test the function\n",
        "list1 = [1, 3, 5]\n",
        "list2 = [2, 4, 6]\n",
        "print(\"List 1:\", list1)\n",
        "print(\"List 2:\", list2)\n",
        "print(\"Merged Sorted List:\", merge_sorted_lists(list1, list2))\n",
        "\n",
        "\n",
        "#Or, you can use heapq.merge():\n",
        "\n",
        "\n",
        "import heapq\n",
        "\n",
        "def merge_sorted_lists(list1, list2):\n",
        "    return list(heapq.merge(list1, list2))\n",
        "\n",
        "# Test the function\n",
        "list1 = [1, 3, 5]\n",
        "list2 = [2, 4, 6]\n",
        "print(\"List 1:\", list1)\n",
        "print(\"List 2:\", list2)\n",
        "print(\"Merged Sorted List:\", merge_sorted_lists(list1, list2))\n",
        "\n"
      ],
      "metadata": {
        "id": "c6GMspH98Lkg"
      },
      "execution_count": null,
      "outputs": []
    },
    {
      "cell_type": "code",
      "source": [
        "#17. write a code to merge two shorted list into a singal shorted list."
      ],
      "metadata": {
        "id": "4CI27FDi8bYY"
      },
      "execution_count": null,
      "outputs": []
    },
    {
      "cell_type": "code",
      "source": [
        "#Ans:- Here's how you can merge two sorted lists into a single sorted list in Python:\n",
        "\n",
        "\n",
        "def merge_sorted_lists(list1, list2):\n",
        "    result = []\n",
        "    i, j = 0, 0\n",
        "\n",
        "    while i < len(list1) and j < len(list2):\n",
        "        if list1[i] < list2[j]:\n",
        "            result.append(list1[i])\n",
        "            i += 1\n",
        "        else:\n",
        "            result.append(list2[j])\n",
        "            j += 1\n",
        "\n",
        "    result += list1[i:]\n",
        "    result += list2[j:]\n",
        "    return result\n",
        "\n",
        "# Test the function\n",
        "list1 = [1, 3, 5]\n",
        "list2 = [2, 4, 6]\n",
        "print(\"List 1:\", list1)\n",
        "print(\"List 2:\", list2)\n",
        "print(\"Merged Sorted List:\", merge_sorted_lists(list1, list2))\n",
        "\n",
        "\n"
      ],
      "metadata": {
        "id": "Zb_-dKWT8th4"
      },
      "execution_count": null,
      "outputs": []
    },
    {
      "cell_type": "code",
      "source": [
        "#18. implement a code to find the intersection of two given list."
      ],
      "metadata": {
        "id": "rimWLnFQ86wz"
      },
      "execution_count": null,
      "outputs": []
    },
    {
      "cell_type": "code",
      "source": [
        "#Ans:- Here's how you can find the intersection of two given lists in Python:\n",
        "\n",
        "\n",
        "def list_intersection(list1, list2):\n",
        "    return [value for value in list1 if value in list2]\n",
        "\n",
        "# Test the function\n",
        "list1 = [1, 2, 3, 4, 5]\n",
        "list2 = [4, 5, 6, 7, 8]\n",
        "print(\"List 1:\", list1)\n",
        "print(\"List 2:\", list2)\n",
        "print(\"Intersection:\", list_intersection(list1, list2))\n"
      ],
      "metadata": {
        "id": "n95rLSJQ9IYQ"
      },
      "execution_count": null,
      "outputs": []
    },
    {
      "cell_type": "code",
      "source": [
        "#19. create a code to find the union of two list without duplicates."
      ],
      "metadata": {
        "id": "i1lenzif9Rq2"
      },
      "execution_count": null,
      "outputs": []
    },
    {
      "cell_type": "code",
      "source": [
        "#Ans:- Here's how you can find the union of two lists without duplicates in Python:\n",
        "\n",
        "\n",
        "def list_union(list1, list2):\n",
        "    return list(set(list1 + list2))\n",
        "\n",
        "# Test the function\n",
        "list1 = [1, 2, 3, 4, 5]\n",
        "list2 = [4, 5, 6, 7, 8]\n",
        "print(\"List 1:\", list1)\n",
        "print(\"List 2:\", list2)\n",
        "print(\"Union:\", list_union(list1, list2))\n"
      ],
      "metadata": {
        "id": "0skDzYh59jBP"
      },
      "execution_count": null,
      "outputs": []
    },
    {
      "cell_type": "code",
      "source": [
        "def list_union(list1, list2):\n",
        "    return list(set(list1).union(set(list2)))\n",
        "\n",
        "# Test the function\n",
        "list1 = [1, 2, 3, 4, 5]\n",
        "list2 = [4, 5, 6, 7, 8]\n",
        "print(\"List 1:\", list1)\n",
        "print(\"List 2:\", list2)\n",
        "print(\"Union:\", list_union(list1, list2))\n"
      ],
      "metadata": {
        "id": "lSDy0teZ93W9"
      },
      "execution_count": null,
      "outputs": []
    },
    {
      "cell_type": "code",
      "source": [
        "#20. write a code to shuffle a given list randomly without using any built in shuffle function."
      ],
      "metadata": {
        "id": "2boUdo_C95rV"
      },
      "execution_count": null,
      "outputs": []
    },
    {
      "cell_type": "code",
      "source": [
        "#Ans:- Here's how you can shuffle a given list randomly without using any built-in shuffle function in Python:\n",
        "\n",
        "def shuffle_list(lst):\n",
        "    #return np.random.permutation(lst).tolist()\n",
        "\n",
        "# Test the function\n",
        " lst = [1, 2, 3, 4, 5]\n",
        "print(\"Original List:\", lst)\n",
        "print(\"Shuffled List:\", shuffle_list(lst))\n"
      ],
      "metadata": {
        "id": "DorF3fiB-UTP"
      },
      "execution_count": null,
      "outputs": []
    },
    {
      "cell_type": "code",
      "source": [
        "#21. write a code that takes two tuples as input and returns a new tuple containing elements that are common to both input tuples."
      ],
      "metadata": {
        "id": "vuzsKwPn-iRf"
      },
      "execution_count": null,
      "outputs": []
    },
    {
      "cell_type": "code",
      "source": [
        "#Ans:- Here's how you can write a code that takes two tuples as input and returns a new tuple containing elements that are common to both input tuples in Python:\n",
        "\n",
        "\n",
        "def common_elements(tuple1, tuple2):\n",
        "    return tuple(set(tuple1) & set(tuple2))\n",
        "\n",
        "# Test the function\n",
        "tuple1 = (1, 2, 3, 4, 5)\n",
        "tuple2 = (4, 5, 6, 7, 8)\n",
        "print(\"Tuple 1:\", tuple1)\n",
        "print(\"Tuple 2:\", tuple2)\n",
        "print(\"Common Elements:\", common_elements(tuple1, tuple2))\n"
      ],
      "metadata": {
        "id": "wNEDBY0B_yDP"
      },
      "execution_count": null,
      "outputs": []
    },
    {
      "cell_type": "code",
      "source": [
        "def common_elements(tuple1, tuple2):\n",
        "    #return tuple(np.intersect1d(tuple1, tuple2))\n",
        "\n",
        "# Test the function\n",
        " tuple1 = (1, 2, 3, 4, 5)\n",
        "tuple2 = (4, 5, 6, 7, 8)\n",
        "print(\"Tuple 1:\", tuple1)\n",
        "print(\"Tuple 2:\", tuple2)\n",
        "print(\"Common Elements:\", common_elements(tuple1, tuple2))\n",
        "\n"
      ],
      "metadata": {
        "id": "0VZjQXto_-CX"
      },
      "execution_count": null,
      "outputs": []
    },
    {
      "cell_type": "code",
      "source": [
        "#22. create a code that prompts the user to enter two sets of integers separated by comman. than ,print the intersection of these two sets."
      ],
      "metadata": {
        "id": "DvE4B0BIACpF"
      },
      "execution_count": null,
      "outputs": []
    },
    {
      "cell_type": "code",
      "source": [
        "#Ans:- Here's how you can create a code that prompts the user to enter two sets of integers separated by commas and then prints the intersection of these two sets in Python:\n",
        "\n",
        "\n",
        "def get_set_from_user(prompt):\n",
        "    user_input = input(prompt)\n",
        "    return set(map(int, user_input.split(',')))\n",
        "\n",
        "def main():\n",
        "    set1 = get_set_from_user(\"Enter first set of integers (separated by commas): \")\n",
        "    set2 = get_set_from_user(\"Enter second set of integers (separated by commas): \")\n",
        "\n",
        "    intersection = set1 & set2\n",
        "\n",
        "    print(\"First set:\", set1)\n",
        "    print(\"Second set:\", set2)\n",
        "    print(\"Intersection:\", intersection)\n",
        "\n",
        "if __name__ == \"__main__\":\n",
        "    main()\n"
      ],
      "metadata": {
        "id": "lN2BAbgAAq5O"
      },
      "execution_count": null,
      "outputs": []
    },
    {
      "cell_type": "code",
      "source": [
        "#23. write a code to concatanate two tuples. the function should take two tuples as input and return a new tuples containing element feom both input tuple."
      ],
      "metadata": {
        "id": "p4Arv20MA61v"
      },
      "execution_count": null,
      "outputs": []
    },
    {
      "cell_type": "code",
      "source": [
        "#Ans:- Here's how you can write a code to concatenate two tuples in Python:\n",
        "\n",
        "\n",
        "def concatenate_tuples(tuple1, tuple2):\n",
        "    return tuple1 + tuple2\n",
        "\n",
        "# Test the function\n",
        "tuple1 = (1, 2, 3)\n",
        "tuple2 = (4, 5, 6)\n",
        "print(\"Tuple 1:\", tuple1)\n",
        "print(\"Tuple 2:\", tuple2)\n",
        "print(\"Concatenated Tuple:\", concatenate_tuples(tuple1, tuple2))"
      ],
      "metadata": {
        "id": "OEEKwCyTBuk-"
      },
      "execution_count": null,
      "outputs": []
    },
    {
      "cell_type": "code",
      "source": [
        "#24. DEvelop a code that prompts the user to input two sets string. than, print the element that are present in the first set but not in the second set."
      ],
      "metadata": {
        "id": "3jNiX7yjCAeF"
      },
      "execution_count": null,
      "outputs": []
    },
    {
      "cell_type": "code",
      "source": [
        "#Ans:- Here's how you can develop a code that prompts the user to input two sets of strings and then prints the elements that are present in the first set but not in the second set in Python:\n",
        "\n",
        "\n",
        "def get_set_from_user(prompt):\n",
        "    user_input = input(prompt)\n",
        "    return set(user_input.split(','))\n",
        "\n",
        "def main():\n",
        "    set1 = get_set_from_user(\"Enter first set of strings (separated by commas): \")\n",
        "    set2 = get_set_from_user(\"Enter second set of strings (separated by commas): \")\n",
        "\n",
        "    difference = set1 - set2\n",
        "\n",
        "    print(\"First set:\", set1)\n",
        "    print(\"Second set:\", set2)\n",
        "    print(\"Elements in first set but not in second set:\", difference)\n",
        "\n",
        "if __name__ == \"__main__\":\n",
        "    main()\n"
      ],
      "metadata": {
        "id": "cz0XHZjlCjrd"
      },
      "execution_count": null,
      "outputs": []
    },
    {
      "cell_type": "code",
      "source": [
        "#25. create a code that take a tuple and two integers as input. the function should return a new tuple containing elements from the original tuple within the specific rangeof indices."
      ],
      "metadata": {
        "id": "2-dmQyM8CtYV"
      },
      "execution_count": null,
      "outputs": []
    },
    {
      "cell_type": "code",
      "source": [
        "#Ans:- Here's how you can create a code that takes a tuple and two integers as input and returns a new tuple containing elements from the original tuple within the specific range of indices in Python:\n",
        "\n",
        "\n",
        "def slice_tuple(tup, start, end):\n",
        "    return tup[start:end]\n",
        "\n",
        "# Test the function\n",
        "tup = (1, 2, 3, 4, 5, 6, 7, 8, 9)\n",
        "start = 3\n",
        "end = 7\n",
        "print(\"Original Tuple:\", tup)\n",
        "print(\"Start Index:\", start)\n",
        "print(\"End Index:\", end)\n",
        "print(\"Sliced Tuple:\", slice_tuple(tup, start, end))"
      ],
      "metadata": {
        "id": "QSxQWEgnDl22"
      },
      "execution_count": null,
      "outputs": []
    },
    {
      "cell_type": "code",
      "source": [
        "#26. write a code that defines two sets of integers.then ,print the union intersection,and difference of these two sets."
      ],
      "metadata": {
        "id": "KanOl-k2EAR_"
      },
      "execution_count": null,
      "outputs": []
    },
    {
      "cell_type": "code",
      "source": [
        "#Ans:- Here's how you can write a code that defines two sets of integers and then prints the union, intersection, and difference of these two sets in Python:\n",
        "\n",
        "\n",
        "def set_operations(set1, set2):\n",
        "    union = set1 | set2\n",
        "    intersection = set1 & set2\n",
        "    difference = set1 - set2\n",
        "\n",
        "    print(\"Set 1:\", set1)\n",
        "    print(\"Set 2:\", set2)\n",
        "    print(\"Union:\", union)\n",
        "    print(\"Intersection:\", intersection)\n",
        "    print(\"Difference:\", difference)\n",
        "\n",
        "# Define two sets of integers\n",
        "set1 = {1, 2, 3, 4, 5}\n",
        "set2 = {4, 5, 6, 7, 8}\n",
        "\n",
        "set_operations(set1, set2)\n",
        "\n",
        "\n"
      ],
      "metadata": {
        "id": "v9_BttnNHMLN"
      },
      "execution_count": null,
      "outputs": []
    },
    {
      "cell_type": "code",
      "source": [
        "#27.Devlop a code that takes a tuple of integers as input. the function should return the maximum and minimun values from the tuple unpacking."
      ],
      "metadata": {
        "id": "J4r4Ac2MJ3w8"
      },
      "execution_count": null,
      "outputs": []
    },
    {
      "cell_type": "code",
      "source": [
        "#Ans:- Here's how you can develop a code that takes a tuple of integers as input and returns the maximum and minimum values from the tuple using unpacking in Python:\n",
        "\n",
        "\n",
        "def find_max_min(tup):\n",
        "    *_, max_val = tup\n",
        "    _, *min_val = sorted(tup)\n",
        "\n",
        "    return max_val, min_val[0]\n",
        "\n",
        "# Test the function\n",
        "tup = (12, 45, 7, 23, 56, 89, 34)\n",
        "print(\"Tuple:\", tup)\n",
        "print(\"Maximum Value:\", find_max_min(tup)[0])\n",
        "print(\"Minimum Value:\", find_max_min(tup)[1])\n",
        "\n",
        "\n"
      ],
      "metadata": {
        "id": "3y6cxowPLfv7"
      },
      "execution_count": null,
      "outputs": []
    },
    {
      "cell_type": "code",
      "source": [
        "#28. create a code that defines two sets of integers. then, print the union, intersection, and difference of these two sets."
      ],
      "metadata": {
        "id": "6uNhVygPLyp7"
      },
      "execution_count": null,
      "outputs": []
    },
    {
      "cell_type": "code",
      "source": [
        "#Ans:- Here's how you can create a code that defines two sets of integers and then prints the union, intersection, and difference of these two sets in Python:\n",
        "\n",
        "\n",
        "# Define two sets of integers\n",
        "set1 = {1, 2, 3, 4, 5}\n",
        "set2 = {4, 5, 6, 7, 8}\n",
        "\n",
        "# Calculate set operations\n",
        "union = set1 | set2\n",
        "intersection = set1 & set2\n",
        "difference = set1 - set2\n",
        "symmetric_difference = set1 ^ set2\n",
        "\n",
        "# Print results\n",
        "print(\"Set 1:\", set1)\n",
        "print(\"Set 2:\", set2)\n",
        "print(\"Union:\", union)\n",
        "print(\"Intersection:\", intersection)\n",
        "print(\"Difference:\", difference)\n",
        "print(\"Symmetric Difference:\", symmetric_difference)"
      ],
      "metadata": {
        "id": "-7_dLvY6MZJg"
      },
      "execution_count": null,
      "outputs": []
    },
    {
      "cell_type": "code",
      "source": [
        "#29. write a code that takes a tuple and an element as input. the functionshould return the count of occurrences of the given elementin the tuple."
      ],
      "metadata": {
        "id": "JBgnRrJhMk3c"
      },
      "execution_count": null,
      "outputs": []
    },
    {
      "cell_type": "code",
      "source": [
        "#Ans:- Here's how you can write a code that takes a tuple and an element as input and returns the count of occurrences of the given element in the tuple in Python:\n",
        "\n",
        "\n",
        "def count_occurrences(tup, element):\n",
        "    return tup.count(element)\n",
        "\n",
        "# Test the function\n",
        "tup = (1, 2, 3, 2, 4, 2, 5)\n",
        "element = 2\n",
        "print(\"Tuple:\", tup)\n",
        "print(\"Element:\", element)\n",
        "print(\"Count of Occurrences:\", count_occurrences(tup, element))"
      ],
      "metadata": {
        "id": "qlukpwiKNNp7"
      },
      "execution_count": null,
      "outputs": []
    },
    {
      "cell_type": "code",
      "source": [
        "#30. Develop a code that prompts the user to input two sets of string.than,print the symmetric difference of these two sets."
      ],
      "metadata": {
        "id": "_GWVchhBNgeT"
      },
      "execution_count": null,
      "outputs": []
    },
    {
      "cell_type": "code",
      "source": [
        "#Ans:- Here's how you can develop a code that prompts the user to input two sets of strings and then prints the symmetric difference of these two sets in Python:\n",
        "\n",
        "\n",
        "def get_set_from_user(prompt):\n",
        "    user_input = input(prompt)\n",
        "    return set(user_input.split(','))\n",
        "\n",
        "def main():\n",
        "    set1 = get_set_from_user(\"Enter first set of strings (separated by commas): \")\n",
        "    set2 = get_set_from_user(\"Enter second set of strings (separated by commas): \")\n",
        "\n",
        "    symmetric_difference = set1 ^ set2\n",
        "\n",
        "    print(\"First set:\", set1)\n",
        "    print(\"Second set:\", set2)\n",
        "    print(\"Symmetric Difference:\", symmetric_difference)\n",
        "\n",
        "if __name__ == \"__main__\":\n",
        "    main()\n"
      ],
      "metadata": {
        "id": "B8SRdfBPOFTB"
      },
      "execution_count": null,
      "outputs": []
    },
    {
      "cell_type": "code",
      "source": [
        "#31. write a code that takes a list of words as input and returns a dictionary where the keys are unique words and the value are the frequencies of those words in the input list."
      ],
      "metadata": {
        "id": "irFl1wqcOTdn"
      },
      "execution_count": null,
      "outputs": []
    },
    {
      "cell_type": "code",
      "source": [
        "#Ans:- Here's how you can write a code that takes a list of words as input and returns a dictionary where the keys are unique words and the values are the frequencies of those words in the input list in Python:\n",
        "\n",
        "\n",
        "def word_frequencies(word_list):\n",
        "    frequency_dict = {}\n",
        "    for word in word_list:\n",
        "        word = word.lower()  # Convert to lowercase\n",
        "        if word in frequency_dict:\n",
        "            frequency_dict[word] += 1\n",
        "        else:\n",
        "            frequency_dict[word] = 1\n",
        "    return frequency_dict\n",
        "\n",
        "# Test the function\n",
        "word_list = [\"Apple\", \"banana\", \"apple\", \"orange\", \"banana\", \"banana\"]\n",
        "print(\"Word List:\", word_list)\n",
        "print(\"Word Frequencies:\", word_frequencies(word_list))\n"
      ],
      "metadata": {
        "id": "sq5OIMUWPMti"
      },
      "execution_count": null,
      "outputs": []
    },
    {
      "cell_type": "code",
      "source": [
        "#32. write a code that takes two dictionaries as input and merges them into a single dictionary. if there arecommon keys, the values should be added together."
      ],
      "metadata": {
        "id": "5Ehn8pPsPbp4"
      },
      "execution_count": null,
      "outputs": []
    },
    {
      "cell_type": "code",
      "source": [
        "#Ans:- Here's how you can write a code that takes two dictionaries as input and merges them into a single dictionary, adding values together for common keys in Python:\n",
        "\n",
        "\n",
        "def merge_dictionaries(dict1, dict2):\n",
        "    merged_dict = {**dict1, **dict2}\n",
        "    for key in dict1:\n",
        "        if key in dict2:\n",
        "            merged_dict[key] = dict1[key] + dict2[key]\n",
        "    return merged_dict\n",
        "\n",
        "# Test the function\n",
        "dict1 = {\"a\": 10, \"b\": 20, \"c\": 30}\n",
        "dict2 = {\"b\": 40, \"c\": 50, \"d\": 60}\n",
        "print(\"Dictionary 1:\", dict1)\n",
        "print(\"Dictionary 2:\", dict2)\n",
        "print(\"Merged Dictionary:\", merge_dictionaries(dict1, dict2))\n",
        "\n",
        "\n"
      ],
      "metadata": {
        "id": "C1M3JkOIQEGG"
      },
      "execution_count": null,
      "outputs": []
    },
    {
      "cell_type": "code",
      "source": [
        "#33. write a code to access a value in a nested dictionary.the function should take the dictionary and a list of keys as input, and return the corresponding value.\n",
        "#if any of the keys do not exist in the doctionary,the function should return none."
      ],
      "metadata": {
        "id": "B-__eXBTQQeW"
      },
      "execution_count": null,
      "outputs": []
    },
    {
      "cell_type": "code",
      "source": [
        "#Ans:- Here's how you can write a code to access a value in a nested dictionary in Python:\n",
        "\n",
        "\n",
        "def access_nested_dict(nested_dict, keys):\n",
        "    value = nested_dict\n",
        "    for key in keys:\n",
        "        if isinstance(value, dict) and key in value:\n",
        "            value = value[key]\n",
        "        else:\n",
        "            return None\n",
        "    return value\n",
        "\n",
        "# Test the function\n",
        "nested_dict = {\n",
        "    \"a\": {\n",
        "        \"b\": {\n",
        "            \"c\": \"value\"\n",
        "        }\n",
        "    }\n",
        "}\n",
        "keys = [\"a\", \"b\", \"c\"]\n",
        "print(\"Nested Dictionary:\", nested_dict)\n",
        "print(\"Keys:\", keys)\n",
        "print(\"Value:\", access_nested_dict(nested_dict, keys))\n",
        "\n"
      ],
      "metadata": {
        "id": "XiMQ3L0vRTbp"
      },
      "execution_count": null,
      "outputs": []
    },
    {
      "cell_type": "code",
      "source": [
        "#34. write a code that take a dictionary as inpute and return a sorted version of it based on the values. you can choose whether to sort in ascending or descending oder."
      ],
      "metadata": {
        "id": "S2_OHpuxRjEx"
      },
      "execution_count": null,
      "outputs": []
    },
    {
      "cell_type": "code",
      "source": [
        "#Ans:- Here's how you can write a code that takes a dictionary as input and returns a sorted version of it based on the values in Python:\n",
        "\n",
        "\n",
        "def sort_dict_by_values(input_dict, ascending=True):\n",
        "    return dict(sorted(input_dict.items(), key=lambda item: item[1], reverse=not ascending))\n",
        "\n",
        "# Test the function\n",
        "input_dict = {\"a\": 3, \"b\": 1, \"c\": 2, \"d\": 4}\n",
        "print(\"Input Dictionary:\", input_dict)\n",
        "print(\"Sorted Dictionary (Ascending):\", sort_dict_by_values(input_dict))\n",
        "print(\"Sorted Dictionary (Descending):\", sort_dict_by_values(input_dict, ascending=False))\n"
      ],
      "metadata": {
        "id": "wEkIDk-ISIJA"
      },
      "execution_count": null,
      "outputs": []
    },
    {
      "cell_type": "code",
      "source": [
        "#35. write a code that inverts a dictionary, swapping keys and values. ensure that the inverted dictionary correcctly handles cases where multipul keys have the same\n",
        " #value by storing the keys as alist in the inverted dictionary."
      ],
      "metadata": {
        "id": "kar0wqZESayx"
      },
      "execution_count": null,
      "outputs": []
    },
    {
      "cell_type": "code",
      "source": [
        "#Ans:- Here's how you can write a code that inverts a dictionary, swapping keys and values, and handling cases where multiple keys have the same value by storing the keys as a list in the inverted dictionary in Python:\n",
        "\n",
        "\n",
        "def invert_dict(input_dict):\n",
        "    inverted_dict = {}\n",
        "    for key, value in input_dict.items():\n",
        "        if value not in inverted_dict:\n",
        "            inverted_dict[value] = [key]\n",
        "        else:\n",
        "            inverted_dict[value].append(key)\n",
        "    return inverted_dict\n",
        "\n",
        "# Test the function\n",
        "input_dict = {\"a\": 1, \"b\": 2, \"c\": 1, \"d\": 3, \"e\": 2}\n",
        "print(\"Input Dictionary:\", input_dict)\n",
        "print(\"Inverted Dictionary:\", invert_dict(input_dict))\n"
      ],
      "metadata": {
        "id": "MHhuIyDLTM-z"
      },
      "execution_count": null,
      "outputs": []
    },
    {
      "cell_type": "code",
      "source": [],
      "metadata": {
        "id": "pIZTQaF0TqCp"
      },
      "execution_count": null,
      "outputs": []
    }
  ]
}